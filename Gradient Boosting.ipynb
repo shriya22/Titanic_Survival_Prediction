{
 "cells": [
  {
   "cell_type": "markdown",
   "metadata": {},
   "source": [
    "## Boosting: Fit and evaluate a model\n"
   ]
  },
  {
   "cell_type": "markdown",
   "metadata": {},
   "source": [
    "### Read in Data"
   ]
  },
  {
   "cell_type": "code",
   "execution_count": 1,
   "metadata": {},
   "outputs": [],
   "source": [
    "import joblib\n",
    "import pandas as pd\n",
    "from sklearn.ensemble import GradientBoostingClassifier, GradientBoostingRegressor\n",
    "from sklearn.model_selection import GridSearchCV\n",
    "import warnings\n",
    "warnings.filterwarnings('ignore', category=FutureWarning)\n",
    "warnings.filterwarnings('ignore', category=DeprecationWarning)\n",
    "\n",
    "tr_features = pd.read_csv('Data/train_features.csv')\n",
    "tr_labels = pd.read_csv('Data/train_labels.csv', header=None)"
   ]
  },
  {
   "cell_type": "code",
   "execution_count": 2,
   "metadata": {},
   "outputs": [
    {
     "data": {
      "text/plain": [
       "GradientBoostingClassifier(ccp_alpha=0.0, criterion='friedman_mse', init=None,\n",
       "                           learning_rate=0.1, loss='deviance', max_depth=3,\n",
       "                           max_features=None, max_leaf_nodes=None,\n",
       "                           min_impurity_decrease=0.0, min_impurity_split=None,\n",
       "                           min_samples_leaf=1, min_samples_split=2,\n",
       "                           min_weight_fraction_leaf=0.0, n_estimators=100,\n",
       "                           n_iter_no_change=None, presort='deprecated',\n",
       "                           random_state=None, subsample=1.0, tol=0.0001,\n",
       "                           validation_fraction=0.1, verbose=0,\n",
       "                           warm_start=False)"
      ]
     },
     "execution_count": 2,
     "metadata": {},
     "output_type": "execute_result"
    }
   ],
   "source": [
    "GradientBoostingClassifier()"
   ]
  },
  {
   "cell_type": "code",
   "execution_count": 3,
   "metadata": {},
   "outputs": [
    {
     "data": {
      "text/plain": [
       "GradientBoostingRegressor(alpha=0.9, ccp_alpha=0.0, criterion='friedman_mse',\n",
       "                          init=None, learning_rate=0.1, loss='ls', max_depth=3,\n",
       "                          max_features=None, max_leaf_nodes=None,\n",
       "                          min_impurity_decrease=0.0, min_impurity_split=None,\n",
       "                          min_samples_leaf=1, min_samples_split=2,\n",
       "                          min_weight_fraction_leaf=0.0, n_estimators=100,\n",
       "                          n_iter_no_change=None, presort='deprecated',\n",
       "                          random_state=None, subsample=1.0, tol=0.0001,\n",
       "                          validation_fraction=0.1, verbose=0, warm_start=False)"
      ]
     },
     "execution_count": 3,
     "metadata": {},
     "output_type": "execute_result"
    }
   ],
   "source": [
    "GradientBoostingRegressor()"
   ]
  },
  {
   "cell_type": "markdown",
   "metadata": {},
   "source": [
    "### Hyperparameter tuning"
   ]
  },
  {
   "cell_type": "code",
   "execution_count": 4,
   "metadata": {},
   "outputs": [],
   "source": [
    "def print_results(results):\n",
    "    print('BEST PARAMS: {}\\n'.format(results.best_params_))\n",
    "\n",
    "    means = results.cv_results_['mean_test_score']\n",
    "    stds = results.cv_results_['std_test_score']\n",
    "    for mean, std, params in zip(means, stds, results.cv_results_['params']):\n",
    "        print('{} (+/-{}) for {}'.format(round(mean, 3), round(std * 2, 3), params))"
   ]
  },
  {
   "cell_type": "code",
   "execution_count": 5,
   "metadata": {},
   "outputs": [
    {
     "name": "stdout",
     "output_type": "stream",
     "text": [
      "BEST PARAMS: {'learning_rate': 0.01, 'max_depth': 1, 'n_estimators': 500}\n",
      "\n",
      "0.627 (+/-0.005) for {'learning_rate': 0.01, 'max_depth': 1, 'n_estimators': 5}\n",
      "0.734 (+/-0.155) for {'learning_rate': 0.01, 'max_depth': 1, 'n_estimators': 50}\n",
      "0.796 (+/-0.101) for {'learning_rate': 0.01, 'max_depth': 1, 'n_estimators': 250}\n",
      "0.817 (+/-0.14) for {'learning_rate': 0.01, 'max_depth': 1, 'n_estimators': 500}\n",
      "0.627 (+/-0.005) for {'learning_rate': 0.01, 'max_depth': 3, 'n_estimators': 5}\n",
      "0.805 (+/-0.089) for {'learning_rate': 0.01, 'max_depth': 3, 'n_estimators': 50}\n",
      "0.807 (+/-0.069) for {'learning_rate': 0.01, 'max_depth': 3, 'n_estimators': 250}\n",
      "0.802 (+/-0.066) for {'learning_rate': 0.01, 'max_depth': 3, 'n_estimators': 500}\n",
      "0.627 (+/-0.005) for {'learning_rate': 0.01, 'max_depth': 5, 'n_estimators': 5}\n",
      "0.796 (+/-0.112) for {'learning_rate': 0.01, 'max_depth': 5, 'n_estimators': 50}\n",
      "0.8 (+/-0.112) for {'learning_rate': 0.01, 'max_depth': 5, 'n_estimators': 250}\n",
      "0.8 (+/-0.091) for {'learning_rate': 0.01, 'max_depth': 5, 'n_estimators': 500}\n",
      "0.627 (+/-0.005) for {'learning_rate': 0.01, 'max_depth': 7, 'n_estimators': 5}\n",
      "0.8 (+/-0.107) for {'learning_rate': 0.01, 'max_depth': 7, 'n_estimators': 50}\n",
      "0.779 (+/-0.1) for {'learning_rate': 0.01, 'max_depth': 7, 'n_estimators': 250}\n",
      "0.772 (+/-0.097) for {'learning_rate': 0.01, 'max_depth': 7, 'n_estimators': 500}\n",
      "0.627 (+/-0.005) for {'learning_rate': 0.01, 'max_depth': 9, 'n_estimators': 5}\n",
      "0.775 (+/-0.077) for {'learning_rate': 0.01, 'max_depth': 9, 'n_estimators': 50}\n",
      "0.774 (+/-0.109) for {'learning_rate': 0.01, 'max_depth': 9, 'n_estimators': 250}\n",
      "0.777 (+/-0.114) for {'learning_rate': 0.01, 'max_depth': 9, 'n_estimators': 500}\n",
      "0.774 (+/-0.121) for {'learning_rate': 0.1, 'max_depth': 1, 'n_estimators': 5}\n",
      "0.817 (+/-0.14) for {'learning_rate': 0.1, 'max_depth': 1, 'n_estimators': 50}\n",
      "0.817 (+/-0.132) for {'learning_rate': 0.1, 'max_depth': 1, 'n_estimators': 250}\n",
      "0.807 (+/-0.113) for {'learning_rate': 0.1, 'max_depth': 1, 'n_estimators': 500}\n",
      "0.805 (+/-0.089) for {'learning_rate': 0.1, 'max_depth': 3, 'n_estimators': 5}\n",
      "0.807 (+/-0.067) for {'learning_rate': 0.1, 'max_depth': 3, 'n_estimators': 50}\n",
      "0.811 (+/-0.066) for {'learning_rate': 0.1, 'max_depth': 3, 'n_estimators': 250}\n",
      "0.798 (+/-0.075) for {'learning_rate': 0.1, 'max_depth': 3, 'n_estimators': 500}\n",
      "0.796 (+/-0.106) for {'learning_rate': 0.1, 'max_depth': 5, 'n_estimators': 5}\n",
      "0.8 (+/-0.076) for {'learning_rate': 0.1, 'max_depth': 5, 'n_estimators': 50}\n",
      "0.792 (+/-0.087) for {'learning_rate': 0.1, 'max_depth': 5, 'n_estimators': 250}\n",
      "0.796 (+/-0.086) for {'learning_rate': 0.1, 'max_depth': 5, 'n_estimators': 500}\n",
      "0.798 (+/-0.115) for {'learning_rate': 0.1, 'max_depth': 7, 'n_estimators': 5}\n",
      "0.785 (+/-0.083) for {'learning_rate': 0.1, 'max_depth': 7, 'n_estimators': 50}\n",
      "0.794 (+/-0.1) for {'learning_rate': 0.1, 'max_depth': 7, 'n_estimators': 250}\n",
      "0.789 (+/-0.102) for {'learning_rate': 0.1, 'max_depth': 7, 'n_estimators': 500}\n",
      "0.779 (+/-0.088) for {'learning_rate': 0.1, 'max_depth': 9, 'n_estimators': 5}\n",
      "0.772 (+/-0.107) for {'learning_rate': 0.1, 'max_depth': 9, 'n_estimators': 50}\n",
      "0.79 (+/-0.087) for {'learning_rate': 0.1, 'max_depth': 9, 'n_estimators': 250}\n",
      "0.785 (+/-0.078) for {'learning_rate': 0.1, 'max_depth': 9, 'n_estimators': 500}\n",
      "0.777 (+/-0.063) for {'learning_rate': 1, 'max_depth': 1, 'n_estimators': 5}\n",
      "0.796 (+/-0.094) for {'learning_rate': 1, 'max_depth': 1, 'n_estimators': 50}\n",
      "0.8 (+/-0.091) for {'learning_rate': 1, 'max_depth': 1, 'n_estimators': 250}\n",
      "0.796 (+/-0.095) for {'learning_rate': 1, 'max_depth': 1, 'n_estimators': 500}\n",
      "0.798 (+/-0.1) for {'learning_rate': 1, 'max_depth': 3, 'n_estimators': 5}\n",
      "0.77 (+/-0.067) for {'learning_rate': 1, 'max_depth': 3, 'n_estimators': 50}\n",
      "0.772 (+/-0.064) for {'learning_rate': 1, 'max_depth': 3, 'n_estimators': 250}\n",
      "0.77 (+/-0.07) for {'learning_rate': 1, 'max_depth': 3, 'n_estimators': 500}\n",
      "0.762 (+/-0.059) for {'learning_rate': 1, 'max_depth': 5, 'n_estimators': 5}\n",
      "0.802 (+/-0.083) for {'learning_rate': 1, 'max_depth': 5, 'n_estimators': 50}\n",
      "0.798 (+/-0.069) for {'learning_rate': 1, 'max_depth': 5, 'n_estimators': 250}\n",
      "0.794 (+/-0.067) for {'learning_rate': 1, 'max_depth': 5, 'n_estimators': 500}\n",
      "0.764 (+/-0.063) for {'learning_rate': 1, 'max_depth': 7, 'n_estimators': 5}\n",
      "0.772 (+/-0.101) for {'learning_rate': 1, 'max_depth': 7, 'n_estimators': 50}\n",
      "0.779 (+/-0.102) for {'learning_rate': 1, 'max_depth': 7, 'n_estimators': 250}\n",
      "0.783 (+/-0.07) for {'learning_rate': 1, 'max_depth': 7, 'n_estimators': 500}\n",
      "0.768 (+/-0.092) for {'learning_rate': 1, 'max_depth': 9, 'n_estimators': 5}\n",
      "0.785 (+/-0.092) for {'learning_rate': 1, 'max_depth': 9, 'n_estimators': 50}\n",
      "0.779 (+/-0.058) for {'learning_rate': 1, 'max_depth': 9, 'n_estimators': 250}\n",
      "0.779 (+/-0.058) for {'learning_rate': 1, 'max_depth': 9, 'n_estimators': 500}\n",
      "0.213 (+/-0.15) for {'learning_rate': 10, 'max_depth': 1, 'n_estimators': 5}\n",
      "0.213 (+/-0.15) for {'learning_rate': 10, 'max_depth': 1, 'n_estimators': 50}\n",
      "0.213 (+/-0.15) for {'learning_rate': 10, 'max_depth': 1, 'n_estimators': 250}\n",
      "0.213 (+/-0.15) for {'learning_rate': 10, 'max_depth': 1, 'n_estimators': 500}\n",
      "0.491 (+/-0.376) for {'learning_rate': 10, 'max_depth': 3, 'n_estimators': 5}\n",
      "0.491 (+/-0.376) for {'learning_rate': 10, 'max_depth': 3, 'n_estimators': 50}\n",
      "0.491 (+/-0.376) for {'learning_rate': 10, 'max_depth': 3, 'n_estimators': 250}\n",
      "0.491 (+/-0.376) for {'learning_rate': 10, 'max_depth': 3, 'n_estimators': 500}\n",
      "0.412 (+/-0.062) for {'learning_rate': 10, 'max_depth': 5, 'n_estimators': 5}\n",
      "0.419 (+/-0.08) for {'learning_rate': 10, 'max_depth': 5, 'n_estimators': 50}\n",
      "0.425 (+/-0.084) for {'learning_rate': 10, 'max_depth': 5, 'n_estimators': 250}\n",
      "0.425 (+/-0.086) for {'learning_rate': 10, 'max_depth': 5, 'n_estimators': 500}\n",
      "0.571 (+/-0.113) for {'learning_rate': 10, 'max_depth': 7, 'n_estimators': 5}\n",
      "0.603 (+/-0.102) for {'learning_rate': 10, 'max_depth': 7, 'n_estimators': 50}\n",
      "0.583 (+/-0.111) for {'learning_rate': 10, 'max_depth': 7, 'n_estimators': 250}\n",
      "0.592 (+/-0.109) for {'learning_rate': 10, 'max_depth': 7, 'n_estimators': 500}\n",
      "0.669 (+/-0.157) for {'learning_rate': 10, 'max_depth': 9, 'n_estimators': 5}\n",
      "0.667 (+/-0.149) for {'learning_rate': 10, 'max_depth': 9, 'n_estimators': 50}\n",
      "0.672 (+/-0.143) for {'learning_rate': 10, 'max_depth': 9, 'n_estimators': 250}\n",
      "0.672 (+/-0.154) for {'learning_rate': 10, 'max_depth': 9, 'n_estimators': 500}\n",
      "0.373 (+/-0.005) for {'learning_rate': 100, 'max_depth': 1, 'n_estimators': 5}\n",
      "0.373 (+/-0.005) for {'learning_rate': 100, 'max_depth': 1, 'n_estimators': 50}\n",
      "0.373 (+/-0.005) for {'learning_rate': 100, 'max_depth': 1, 'n_estimators': 250}\n",
      "0.373 (+/-0.005) for {'learning_rate': 100, 'max_depth': 1, 'n_estimators': 500}\n",
      "0.356 (+/-0.216) for {'learning_rate': 100, 'max_depth': 3, 'n_estimators': 5}\n",
      "0.356 (+/-0.216) for {'learning_rate': 100, 'max_depth': 3, 'n_estimators': 50}\n",
      "0.356 (+/-0.216) for {'learning_rate': 100, 'max_depth': 3, 'n_estimators': 250}\n",
      "0.356 (+/-0.216) for {'learning_rate': 100, 'max_depth': 3, 'n_estimators': 500}\n",
      "0.51 (+/-0.23) for {'learning_rate': 100, 'max_depth': 5, 'n_estimators': 5}\n",
      "0.51 (+/-0.234) for {'learning_rate': 100, 'max_depth': 5, 'n_estimators': 50}\n",
      "0.512 (+/-0.24) for {'learning_rate': 100, 'max_depth': 5, 'n_estimators': 250}\n",
      "0.491 (+/-0.253) for {'learning_rate': 100, 'max_depth': 5, 'n_estimators': 500}\n",
      "0.596 (+/-0.116) for {'learning_rate': 100, 'max_depth': 7, 'n_estimators': 5}\n",
      "0.566 (+/-0.066) for {'learning_rate': 100, 'max_depth': 7, 'n_estimators': 50}\n",
      "0.551 (+/-0.143) for {'learning_rate': 100, 'max_depth': 7, 'n_estimators': 250}\n",
      "0.586 (+/-0.121) for {'learning_rate': 100, 'max_depth': 7, 'n_estimators': 500}\n",
      "0.624 (+/-0.196) for {'learning_rate': 100, 'max_depth': 9, 'n_estimators': 5}\n",
      "0.62 (+/-0.14) for {'learning_rate': 100, 'max_depth': 9, 'n_estimators': 50}\n",
      "0.613 (+/-0.196) for {'learning_rate': 100, 'max_depth': 9, 'n_estimators': 250}\n",
      "0.629 (+/-0.181) for {'learning_rate': 100, 'max_depth': 9, 'n_estimators': 500}\n"
     ]
    }
   ],
   "source": [
    "gb = GradientBoostingClassifier()\n",
    "parameters = {\n",
    "    'n_estimators': [5, 50, 250, 500],\n",
    "    'max_depth': [1, 3, 5, 7, 9],\n",
    "    'learning_rate': [0.01, 0.1, 1, 10, 100]\n",
    "}\n",
    "\n",
    "cv = GridSearchCV(gb, parameters, cv=5)\n",
    "cv.fit(tr_features, tr_labels.values.ravel())\n",
    "\n",
    "print_results(cv)"
   ]
  },
  {
   "cell_type": "markdown",
   "metadata": {},
   "source": [
    "### Write out pickled model"
   ]
  },
  {
   "cell_type": "code",
   "execution_count": 6,
   "metadata": {},
   "outputs": [
    {
     "data": {
      "text/plain": [
       "['Trained Models/GB_model.pkl']"
      ]
     },
     "execution_count": 6,
     "metadata": {},
     "output_type": "execute_result"
    }
   ],
   "source": [
    "joblib.dump(cv.best_estimator_, 'Trained Models/GB_model.pkl')"
   ]
  }
 ],
 "metadata": {
  "kernelspec": {
   "display_name": "Python 3",
   "language": "python",
   "name": "python3"
  },
  "language_info": {
   "codemirror_mode": {
    "name": "ipython",
    "version": 3
   },
   "file_extension": ".py",
   "mimetype": "text/x-python",
   "name": "python",
   "nbconvert_exporter": "python",
   "pygments_lexer": "ipython3",
   "version": "3.7.6"
  }
 },
 "nbformat": 4,
 "nbformat_minor": 2
}
